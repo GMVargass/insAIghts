{
 "cells": [
  {
   "cell_type": "markdown",
   "metadata": {},
   "source": [
    "# Validações no database Gerado"
   ]
  },
  {
   "cell_type": "code",
   "execution_count": 21,
   "metadata": {},
   "outputs": [],
   "source": [
    "import pandas as pd\n",
    "import os\n",
    "\n",
    "\n",
    "def get_unique_values(df, column):\n",
    "    return df[column].unique().tolist()\n",
    "\n",
    "def get_list_unique_values(lst):\n",
    "    df_list = pd.DataFrame({\"col\": lst})\n",
    "    return get_unique_values(df_list, \"col\")"
   ]
  },
  {
   "cell_type": "code",
   "execution_count": 8,
   "metadata": {},
   "outputs": [
    {
     "name": "stdout",
     "output_type": "stream",
     "text": [
      "['SIH_2000_01.csv', 'SIH_2000_02.csv', 'SIH_2000_03.csv', 'SIH_2000_04.csv', 'SIH_2000_05.csv', 'SIH_2000_06.csv', 'SIH_2000_07.csv', 'SIH_2000_08.csv', 'SIH_2000_09.csv', 'SIH_2000_10.csv', 'SIH_2000_11.csv', 'SIH_2000_12.csv', 'SIH_2001_01.csv', 'SIH_2001_02.csv', 'SIH_2001_03.csv', 'SIH_2001_04.csv', 'SIH_2001_05.csv', 'SIH_2001_06.csv', 'SIH_2001_07.csv', 'SIH_2001_08.csv', 'SIH_2001_09.csv', 'SIH_2001_10.csv', 'SIH_2001_11.csv', 'SIH_2001_12.csv', 'SIH_2002_01.csv', 'SIH_2002_02.csv', 'SIH_2002_03.csv', 'SIH_2002_04.csv', 'SIH_2002_05.csv', 'SIH_2002_06.csv', 'SIH_2002_07.csv', 'SIH_2002_08.csv', 'SIH_2002_09.csv', 'SIH_2002_10.csv', 'SIH_2002_11.csv', 'SIH_2002_12.csv', 'SIH_2003_01.csv', 'SIH_2003_02.csv', 'SIH_2003_03.csv', 'SIH_2003_04.csv', 'SIH_2003_05.csv', 'SIH_2003_06.csv', 'SIH_2003_07.csv', 'SIH_2003_08.csv', 'SIH_2003_09.csv', 'SIH_2003_10.csv', 'SIH_2003_11.csv', 'SIH_2003_12.csv', 'SIH_2004_01.csv', 'SIH_2004_02.csv', 'SIH_2004_03.csv', 'SIH_2004_04.csv', 'SIH_2004_05.csv', 'SIH_2004_06.csv', 'SIH_2004_07.csv', 'SIH_2004_08.csv', 'SIH_2004_09.csv', 'SIH_2004_10.csv', 'SIH_2004_11.csv', 'SIH_2004_12.csv', 'SIH_2005_01.csv', 'SIH_2005_02.csv', 'SIH_2005_03.csv', 'SIH_2005_04.csv', 'SIH_2005_05.csv', 'SIH_2005_06.csv', 'SIH_2005_07.csv', 'SIH_2005_08.csv', 'SIH_2005_09.csv', 'SIH_2005_10.csv', 'SIH_2005_11.csv', 'SIH_2005_12.csv', 'SIH_2006_01.csv', 'SIH_2006_02.csv', 'SIH_2006_03.csv', 'SIH_2006_04.csv', 'SIH_2006_05.csv', 'SIH_2006_06.csv', 'SIH_2006_07.csv', 'SIH_2006_08.csv', 'SIH_2006_09.csv', 'SIH_2006_10.csv', 'SIH_2006_11.csv', 'SIH_2006_12.csv', 'SIH_2007_01.csv', 'SIH_2007_02.csv', 'SIH_2007_03.csv', 'SIH_2007_04.csv', 'SIH_2007_05.csv', 'SIH_2007_06.csv', 'SIH_2007_07.csv', 'SIH_2007_08.csv', 'SIH_2007_09.csv', 'SIH_2007_10.csv', 'SIH_2007_11.csv', 'SIH_2007_12.csv', 'SIH_2008_01.csv', 'SIH_2008_02.csv', 'SIH_2008_03.csv', 'SIH_2008_04.csv', 'SIH_2008_05.csv', 'SIH_2008_06.csv', 'SIH_2008_07.csv', 'SIH_2008_08.csv', 'SIH_2008_09.csv', 'SIH_2008_10.csv', 'SIH_2008_11.csv', 'SIH_2008_12.csv', 'SIH_2009_01.csv', 'SIH_2009_02.csv', 'SIH_2009_03.csv', 'SIH_2009_04.csv', 'SIH_2009_05.csv', 'SIH_2009_06.csv', 'SIH_2009_07.csv', 'SIH_2009_08.csv', 'SIH_2009_09.csv', 'SIH_2009_10.csv', 'SIH_2009_11.csv', 'SIH_2009_12.csv', 'SIH_2010_01.csv', 'SIH_2010_02.csv', 'SIH_2010_03.csv', 'SIH_2010_04.csv', 'SIH_2010_05.csv', 'SIH_2010_06.csv', 'SIH_2010_07.csv', 'SIH_2010_08.csv', 'SIH_2010_09.csv', 'SIH_2010_10.csv', 'SIH_2010_11.csv', 'SIH_2010_12.csv', 'SIH_2011_01.csv', 'SIH_2011_02.csv', 'SIH_2011_03.csv', 'SIH_2011_04.csv', 'SIH_2011_05.csv', 'SIH_2011_06.csv', 'SIH_2011_07.csv', 'SIH_2011_08.csv', 'SIH_2011_09.csv', 'SIH_2011_10.csv', 'SIH_2011_11.csv', 'SIH_2011_12.csv', 'SIH_2012_01.csv', 'SIH_2012_02.csv', 'SIH_2012_03.csv', 'SIH_2012_04.csv', 'SIH_2012_05.csv', 'SIH_2012_06.csv', 'SIH_2012_07.csv', 'SIH_2012_08.csv', 'SIH_2012_09.csv', 'SIH_2012_10.csv', 'SIH_2012_11.csv', 'SIH_2012_12.csv', 'SIH_2013_01.csv', 'SIH_2013_02.csv', 'SIH_2013_03.csv', 'SIH_2013_04.csv', 'SIH_2013_05.csv', 'SIH_2013_06.csv', 'SIH_2013_07.csv', 'SIH_2013_08.csv', 'SIH_2013_09.csv', 'SIH_2013_10.csv', 'SIH_2013_11.csv', 'SIH_2013_12.csv', 'SIH_2014_01.csv', 'SIH_2014_02.csv', 'SIH_2014_03.csv', 'SIH_2014_04.csv', 'SIH_2014_05.csv', 'SIH_2014_06.csv', 'SIH_2014_07.csv', 'SIH_2014_08.csv', 'SIH_2014_09.csv', 'SIH_2014_10.csv', 'SIH_2014_11.csv', 'SIH_2014_12.csv', 'SIH_2015_01.csv', 'SIH_2015_02.csv', 'SIH_2015_03.csv', 'SIH_2015_04.csv', 'SIH_2015_05.csv', 'SIH_2015_06.csv', 'SIH_2015_07.csv', 'SIH_2015_08.csv', 'SIH_2015_09.csv', 'SIH_2015_10.csv', 'SIH_2015_11.csv', 'SIH_2015_12.csv', 'SIH_2016_01.csv', 'SIH_2016_02.csv', 'SIH_2016_03.csv', 'SIH_2016_04.csv', 'SIH_2016_05.csv', 'SIH_2016_06.csv', 'SIH_2016_07.csv', 'SIH_2016_08.csv', 'SIH_2016_09.csv', 'SIH_2016_10.csv', 'SIH_2016_11.csv', 'SIH_2016_12.csv', 'SIH_2017_01.csv', 'SIH_2017_02.csv', 'SIH_2017_03.csv', 'SIH_2017_04.csv', 'SIH_2017_05.csv', 'SIH_2017_06.csv', 'SIH_2017_07.csv', 'SIH_2017_08.csv', 'SIH_2017_09.csv', 'SIH_2017_10.csv', 'SIH_2017_11.csv', 'SIH_2017_12.csv', 'SIH_2018_01.csv', 'SIH_2018_02.csv', 'SIH_2018_03.csv', 'SIH_2018_04.csv', 'SIH_2018_05.csv', 'SIH_2018_06.csv', 'SIH_2018_07.csv', 'SIH_2018_08.csv', 'SIH_2018_09.csv', 'SIH_2018_10.csv', 'SIH_2018_11.csv', 'SIH_2018_12.csv', 'SIH_2019_01.csv', 'SIH_2019_02.csv', 'SIH_2019_03.csv', 'SIH_2019_04.csv', 'SIH_2019_05.csv', 'SIH_2019_06.csv', 'SIH_2019_07.csv', 'SIH_2019_08.csv', 'SIH_2019_09.csv', 'SIH_2019_10.csv', 'SIH_2019_11.csv', 'SIH_2019_12.csv', 'SIH_2020_01.csv', 'SIH_2020_02.csv', 'SIH_2020_03.csv', 'SIH_2020_04.csv', 'SIH_2020_05.csv', 'SIH_2020_06.csv', 'SIH_2020_07.csv']\n"
     ]
    }
   ],
   "source": [
    "# Número total de arquivos deve ser igual a \n",
    "#  - 20 anos (2000 - 2019) x 12 meses cada + 7 meses de 2020\n",
    "total = (20 * 12) + 7\n",
    "\n",
    "list_files = os.listdir(\"1_raw_database\")\n",
    "list_files = [f for f in list_files if f.endswith(\".csv\")]\n",
    "list_files.sort()\n",
    "\n",
    "print(list_files)\n",
    "\n",
    "assert len(list_files) == total, \"O número esperado de arquivos está incorreto\""
   ]
  },
  {
   "cell_type": "code",
   "execution_count": null,
   "metadata": {},
   "outputs": [],
   "source": [
    "# Verificar se todos tem as colunas de interesse\n",
    "# Verificar se o arquivo gerado  SIH_<ANO>_<MES> é correspondido com as colunas ANO_CMPT MES_CMPT\n",
    "# Verificar se existem valores na coluna DIAG_PRINC que contenham \".\"\n",
    "\n",
    "usecols = [\"UF_ZI\",\"ANO_CMPT\",\"MES_CMPT\",\"ESPEC\",\"MUNIC_RES\",\"NASC\",\"SEXO\",\"DT_INTER\",\"DT_SAIDA\",\"DIAG_PRINC\",\"DIAG_SECUN\",\"DIAGSEC1\",\"COD_IDADE\",\"IDADE\",\"DIAS_PERM\",\"MORTE\",\"CID_NOTIF\",\"CID_ASSO\",\"CID_MORTE\",\"RACA_COR\"]\n",
    "\n",
    "\n",
    "for f in list_files[126:]:\n",
    "    print(f\"Check file: {f}\")\n",
    "    df = pd.read_csv(f\"1_raw_database/{f}\")\n",
    "    \n",
    "    aux_columns = list(df.columns)\n",
    "    aux_columns.extend(usecols)\n",
    "    aux_columns = get_list_unique_values(aux_columns)\n",
    "    \n",
    "    aux_df = pd.DataFrame(columns=aux_columns)\n",
    "    aux_df = aux_df.append(df, ignore_index=True)\n",
    "    \n",
    "    final_df = pd.DataFrame(aux_df, columns=usecols)\n",
    "    \n",
    "    splited = f.split(\"_\")\n",
    "    ano_ = int(splited[1])\n",
    "    mes_ = int(splited[-1].split(\".\")[0])\n",
    "    print(f\"\\tAno: {ano_}, Mês: {mes_}\")\n",
    "    \n",
    "    lst_ano = final_df[\"ANO_CMPT\"].unique().tolist()\n",
    "    print(f\"\\tLista ano: {lst_ano}\")\n",
    "    assert len(lst_ano) == 1\n",
    "    assert lst_ano[0] == ano_\n",
    "    \n",
    "    lst_mes = final_df[\"MES_CMPT\"].unique().tolist()\n",
    "    print(f\"\\tLista ano: {lst_mes}\")\n",
    "    assert len(lst_mes) == 1\n",
    "    assert lst_mes[0] == mes_\n",
    "    \n",
    "    lst_diag = final_df[\"DIAG_PRINC\"].unique().tolist()\n",
    "    lst_diag_dot = [i for i in lst_diag if \".\" in str(i)]\n",
    "    print(f\"\\tCID com . : {lst_diag_dot}\")\n",
    "    assert len(lst_diag_dot) == 0\n",
    "    \n",
    "    del df\n",
    "    del aux_df\n",
    "    del final_df\n",
    "    \n",
    "# Validações realizadas com sucesso!!"
   ]
  },
  {
   "cell_type": "code",
   "execution_count": null,
   "metadata": {},
   "outputs": [],
   "source": []
  }
 ],
 "metadata": {
  "kernelspec": {
   "display_name": "Python 3",
   "language": "python",
   "name": "python3"
  },
  "language_info": {
   "codemirror_mode": {
    "name": "ipython",
    "version": 3
   },
   "file_extension": ".py",
   "mimetype": "text/x-python",
   "name": "python",
   "nbconvert_exporter": "python",
   "pygments_lexer": "ipython3",
   "version": "3.6.10"
  }
 },
 "nbformat": 4,
 "nbformat_minor": 4
}
